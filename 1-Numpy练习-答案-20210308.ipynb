{
 "cells": [
  {
   "cell_type": "markdown",
   "metadata": {},
   "source": [
    "### 1. 创建一个长度为10的一维全为0的ndarray对象，然后让第5个元素等于1"
   ]
  },
  {
   "cell_type": "code",
   "execution_count": 1,
   "metadata": {},
   "outputs": [
    {
     "name": "stdout",
     "output_type": "stream",
     "text": [
      "[0. 0. 0. 0. 0. 0. 0. 0. 0. 0.]\n",
      "[0. 0. 0. 0. 1. 0. 0. 0. 0. 0.]\n"
     ]
    }
   ],
   "source": [
    "import numpy as np\n",
    "a=np.zeros(10)\n",
    "print((a))\n",
    "a[4]=1\n",
    "print(a)"
   ]
  },
  {
   "cell_type": "markdown",
   "metadata": {},
   "source": [
    "### 2. 创建一个元素为从10到49的ndarray对象\n",
    "2.1 包含20个元素  \n",
    "2.2 每隔3取值一个元素"
   ]
  },
  {
   "cell_type": "code",
   "execution_count": 2,
   "metadata": {},
   "outputs": [
    {
     "name": "stdout",
     "output_type": "stream",
     "text": [
      "[10 11 12 13 14 15 16 17 18 19 20 21 22 23 24 25 26 27 28 29 30 31 32 33\n",
      " 34 35 36 37 38 39 40 41 42 43 44 45 46 47 48 49]\n",
      "[10.         12.05263158 14.10526316 16.15789474 18.21052632 20.26315789\n",
      " 22.31578947 24.36842105 26.42105263 28.47368421 30.52631579 32.57894737\n",
      " 34.63157895 36.68421053 38.73684211 40.78947368 42.84210526 44.89473684\n",
      " 46.94736842 49.        ]\n",
      "[10 13 16 19 22 25 28 31 34 37 40 43 46 49]\n"
     ]
    }
   ],
   "source": [
    "#2 从10到49的ndarray对象\n",
    "a=np.arange(10,50)\n",
    "print(a)\n",
    "#2.1 包含20个元素的ndarray对象\n",
    "b=np.linspace(10,49,20)\n",
    "print(b)\n",
    "#2.2 每隔3取值一个元素\n",
    "c=np.arange(10,50,3)\n",
    "print(c)"
   ]
  },
  {
   "cell_type": "markdown",
   "metadata": {},
   "source": [
    "### 3. 将2中最后一个ndarray翻转"
   ]
  },
  {
   "cell_type": "code",
   "execution_count": 3,
   "metadata": {},
   "outputs": [
    {
     "name": "stdout",
     "output_type": "stream",
     "text": [
      "[49 46 43 40 37 34 31 28 25 22 19 16 13 10]\n"
     ]
    }
   ],
   "source": [
    "reverse=c[::-1]\n",
    "print(reverse)"
   ]
  },
  {
   "cell_type": "markdown",
   "metadata": {},
   "source": [
    "### 4. 使用np.random.random创建一个10*10的ndarray对象，并打印出最大最小元素"
   ]
  },
  {
   "cell_type": "code",
   "execution_count": 4,
   "metadata": {},
   "outputs": [
    {
     "name": "stdout",
     "output_type": "stream",
     "text": [
      "[[0.34578745 0.56639591 0.99664027 0.85602469 0.89305919 0.51124505\n",
      "  0.55710192 0.66108637 0.97355849 0.29858689]\n",
      " [0.20933173 0.27488837 0.28932156 0.97443006 0.95074973 0.99188276\n",
      "  0.11062929 0.64854988 0.09637194 0.6884315 ]\n",
      " [0.77006751 0.04454318 0.7678962  0.35483661 0.40092694 0.39866748\n",
      "  0.24898464 0.99140972 0.13093072 0.29937234]\n",
      " [0.5642781  0.03688415 0.31969461 0.55159294 0.51711676 0.03866863\n",
      "  0.51798733 0.04657241 0.59306407 0.05532315]\n",
      " [0.96096777 0.05033348 0.93778768 0.88801659 0.37706054 0.72049904\n",
      "  0.05722718 0.22625763 0.57821057 0.17171592]\n",
      " [0.89435393 0.1867381  0.26401643 0.51591635 0.96995919 0.25197118\n",
      "  0.12454048 0.49482746 0.50933763 0.71122083]\n",
      " [0.42196902 0.81677275 0.63097416 0.19823636 0.07993046 0.1034908\n",
      "  0.71978026 0.67990044 0.47987538 0.12760028]\n",
      " [0.36347839 0.85255811 0.68299773 0.44738038 0.65155177 0.36866769\n",
      "  0.28249931 0.91853045 0.79855712 0.3136806 ]\n",
      " [0.00104746 0.01765069 0.50039523 0.82616514 0.51838757 0.76680577\n",
      "  0.73806754 0.0486302  0.96848351 0.83047665]\n",
      " [0.12126993 0.02627211 0.57304877 0.96484051 0.71123302 0.01350003\n",
      "  0.81821234 0.64837055 0.14942775 0.49763961]]\n",
      "0.9966402666854036\n",
      "0.0010474619222285986\n"
     ]
    }
   ],
   "source": [
    "d=np.random.random((10,10))\n",
    "print(d)\n",
    "print(d.max())\n",
    "print(d.min())"
   ]
  },
  {
   "cell_type": "markdown",
   "metadata": {},
   "source": [
    "### 5. 创建一个10*10的ndarray对象，且矩阵边界全为1，里面全为0"
   ]
  },
  {
   "cell_type": "code",
   "execution_count": 5,
   "metadata": {},
   "outputs": [
    {
     "name": "stdout",
     "output_type": "stream",
     "text": [
      "[[1. 1. 1. 1. 1. 1. 1. 1. 1. 1.]\n",
      " [1. 0. 0. 0. 0. 0. 0. 0. 0. 1.]\n",
      " [1. 0. 0. 0. 0. 0. 0. 0. 0. 1.]\n",
      " [1. 0. 0. 0. 0. 0. 0. 0. 0. 1.]\n",
      " [1. 0. 0. 0. 0. 0. 0. 0. 0. 1.]\n",
      " [1. 0. 0. 0. 0. 0. 0. 0. 0. 1.]\n",
      " [1. 0. 0. 0. 0. 0. 0. 0. 0. 1.]\n",
      " [1. 0. 0. 0. 0. 0. 0. 0. 0. 1.]\n",
      " [1. 0. 0. 0. 0. 0. 0. 0. 0. 1.]\n",
      " [1. 1. 1. 1. 1. 1. 1. 1. 1. 1.]]\n"
     ]
    }
   ],
   "source": [
    "e=np.zeros((10,10))\n",
    "e[[0,9]]=1\n",
    "e[:,[0,9]]=1\n",
    "print(e)"
   ]
  },
  {
   "cell_type": "markdown",
   "metadata": {},
   "source": [
    "### 6. 创建一个每一行都是从0到4的5*5矩阵"
   ]
  },
  {
   "cell_type": "code",
   "execution_count": 6,
   "metadata": {},
   "outputs": [
    {
     "name": "stdout",
     "output_type": "stream",
     "text": [
      "[[0 1 2 3 4]\n",
      " [0 1 2 3 4]\n",
      " [0 1 2 3 4]\n",
      " [0 1 2 3 4]\n",
      " [0 1 2 3 4]]\n"
     ]
    }
   ],
   "source": [
    "f=np.array([0,1,2,3,4]*5).reshape(5,5)\n",
    "print(f)"
   ]
  },
  {
   "cell_type": "markdown",
   "metadata": {},
   "source": [
    "### 7. 创建一个长度为10的随机数组并将最大值替换为0"
   ]
  },
  {
   "cell_type": "code",
   "execution_count": 8,
   "metadata": {},
   "outputs": [
    {
     "name": "stdout",
     "output_type": "stream",
     "text": [
      "[97 45 22 49 67 92  9 60 27  3]\n",
      "[ 0 45 22 49 67 92  9 60 27  3]\n"
     ]
    }
   ],
   "source": [
    "g=np.random.randint(0,100,10)\n",
    "print(g)\n",
    "gmax=g.max()\n",
    "gmaxwhere=g==gmax #g==max returns an ndarray containing true, false, ...(only one \"true\" when it indexes the max value.)\n",
    "g[gmaxwhere]=0\n",
    "print(g)"
   ]
  },
  {
   "cell_type": "markdown",
   "metadata": {},
   "source": [
    "### 8. 生成长度为10的随机数组m\n",
    "8.1 运行print(t.argsort())  \n",
    "8.2 运行t.sort()  \n",
    "比较两个排序命令的区别"
   ]
  },
  {
   "cell_type": "code",
   "execution_count": 9,
   "metadata": {},
   "outputs": [
    {
     "name": "stdout",
     "output_type": "stream",
     "text": [
      "[ 3 25 76 95 27  8  8 55 22 85]\n",
      "[0 5 6 8 1 4 7 2 9 3]\n",
      "[ 3  8  8 22 25 27 55 76 85 95]\n"
     ]
    }
   ],
   "source": [
    "m=np.random.randint(0,100,10)\n",
    "print(m)\n",
    "#8.1\n",
    "print(m.argsort())\n",
    "#8.2\n",
    "m.sort()\n",
    "print(m)\n",
    "\n",
    "#区别：print(t.argsort())将数组按从小到大排列，并按照对应的索引值输出；sort()在原数组上进行从小到大的重新排序。"
   ]
  },
  {
   "cell_type": "markdown",
   "metadata": {},
   "source": [
    "### 9. 给定一个4维矩阵，如何得到最后两维的和？\n",
    "可使用np.random.randint(0,10,(3,3,3,3))生成0到9范围内的随机整数矩阵"
   ]
  },
  {
   "cell_type": "code",
   "execution_count": 10,
   "metadata": {},
   "outputs": [
    {
     "name": "stdout",
     "output_type": "stream",
     "text": [
      "[[43 40 42]\n",
      " [46 47 40]\n",
      " [30 54 32]]\n"
     ]
    }
   ],
   "source": [
    "h=np.random.randint(0,10,(3,3,3,3))\n",
    "j=h.sum(axis=(-1,-2))\n",
    "print(j)"
   ]
  },
  {
   "cell_type": "markdown",
   "metadata": {},
   "source": [
    "### 10. 给定数组[1, 2, 3, 4, 5]，如何得到在这个数组的每个元素之间插入3个0后的新数组？"
   ]
  },
  {
   "cell_type": "code",
   "execution_count": 11,
   "metadata": {},
   "outputs": [
    {
     "name": "stdout",
     "output_type": "stream",
     "text": [
      "[1 0 0 0 2 0 0 0 3 0 0 0 4 0 0 0 5]\n"
     ]
    }
   ],
   "source": [
    "o=np.arange(1,6)\n",
    "p=np.zeros(17,dtype=np.int8)\n",
    "p[::4]=o\n",
    "print(p)"
   ]
  },
  {
   "cell_type": "markdown",
   "metadata": {},
   "source": [
    "### 11. 给定一个二维矩阵，如何交换其中两行的元素？"
   ]
  },
  {
   "cell_type": "code",
   "execution_count": 12,
   "metadata": {},
   "outputs": [
    {
     "name": "stdout",
     "output_type": "stream",
     "text": [
      "[[25  3 98]\n",
      " [12 10 28]\n",
      " [57 61 93]]\n",
      "[[12 10 28]\n",
      " [25  3 98]\n",
      " [57 61 93]]\n"
     ]
    }
   ],
   "source": [
    "q=np.random.randint(0,100,(3,3))\n",
    "print(q)\n",
    "print(q[[1,0,2]])"
   ]
  },
  {
   "cell_type": "markdown",
   "metadata": {},
   "source": [
    "### 12. 创建一个5 \\* 3 随机矩阵和一个3 \\* 2随机矩阵，求矩阵积"
   ]
  },
  {
   "cell_type": "code",
   "execution_count": 13,
   "metadata": {},
   "outputs": [
    {
     "name": "stdout",
     "output_type": "stream",
     "text": [
      "[[6 1 4]\n",
      " [4 0 0]\n",
      " [9 7 5]\n",
      " [0 4 5]\n",
      " [7 4 8]]\n",
      "[[6 9]\n",
      " [4 6]\n",
      " [4 9]]\n",
      "[[ 56  96]\n",
      " [ 24  36]\n",
      " [102 168]\n",
      " [ 36  69]\n",
      " [ 90 159]]\n"
     ]
    }
   ],
   "source": [
    "r=np.random.randint(0,10,(5,3))\n",
    "s=np.random.randint(0,10,(3,2))\n",
    "product=np.dot(r,s)\n",
    "print(r)\n",
    "print(s)\n",
    "print(product)"
   ]
  },
  {
   "cell_type": "markdown",
   "metadata": {},
   "source": [
    "### 13. 生成一个5 \\*5 的0到10之间的随机整数矩阵，矩阵的每一行的元素都减去该行的平均值"
   ]
  },
  {
   "cell_type": "code",
   "execution_count": 14,
   "metadata": {},
   "outputs": [
    {
     "name": "stdout",
     "output_type": "stream",
     "text": [
      "[[ 0  1  1  9  4]\n",
      " [ 8  3  3  9  1]\n",
      " [ 4  5  4  4  2]\n",
      " [ 1  7 10  7  0]\n",
      " [ 5  6  8  1  8]]\n",
      "[[3. ]\n",
      " [4.8]\n",
      " [3.8]\n",
      " [5. ]\n",
      " [5.6]]\n",
      "[[-3.  -2.  -2.   6.   1. ]\n",
      " [ 3.2 -1.8 -1.8  4.2 -3.8]\n",
      " [ 0.2  1.2  0.2  0.2 -1.8]\n",
      " [-4.   2.   5.   2.  -5. ]\n",
      " [-0.6  0.4  2.4 -4.6  2.4]]\n"
     ]
    }
   ],
   "source": [
    "u=np.random.randint(0,11,(5,5))\n",
    "print(u)\n",
    "average=u.mean(axis=1).reshape(5,1)\n",
    "print(average)\n",
    "u=u-average \n",
    "print(u)"
   ]
  },
  {
   "cell_type": "markdown",
   "metadata": {},
   "source": [
    "### 14. 生成如下矩阵：\n",
    "[[0 1 0 1 0 1 0 1]  \n",
    " [1 0 1 0 1 0 1 0]  \n",
    " [0 1 0 1 0 1 0 1]  \n",
    " [1 0 1 0 1 0 1 0]  \n",
    " [0 1 0 1 0 1 0 1]  \n",
    " [1 0 1 0 1 0 1 0]  \n",
    " [0 1 0 1 0 1 0 1]  \n",
    " [1 0 1 0 1 0 1 0]  \n",
    " 14.1 要求使用np.zeros创建8*8的矩阵  \n",
    " 14.2 np.fromfunction创建"
   ]
  },
  {
   "cell_type": "code",
   "execution_count": 15,
   "metadata": {},
   "outputs": [
    {
     "name": "stdout",
     "output_type": "stream",
     "text": [
      "[[0 1 0 1 0 1 0 1]\n",
      " [1 0 1 0 1 0 1 0]\n",
      " [0 1 0 1 0 1 0 1]\n",
      " [1 0 1 0 1 0 1 0]\n",
      " [0 1 0 1 0 1 0 1]\n",
      " [1 0 1 0 1 0 1 0]\n",
      " [0 1 0 1 0 1 0 1]\n",
      " [1 0 1 0 1 0 1 0]]\n",
      "[[0 1 0 1 0 1 0 1]\n",
      " [1 0 1 0 1 0 1 0]\n",
      " [0 1 0 1 0 1 0 1]\n",
      " [1 0 1 0 1 0 1 0]\n",
      " [0 1 0 1 0 1 0 1]\n",
      " [1 0 1 0 1 0 1 0]\n",
      " [0 1 0 1 0 1 0 1]\n",
      " [1 0 1 0 1 0 1 0]]\n"
     ]
    }
   ],
   "source": [
    "#14.1\n",
    "v=np.zeros((8,8),dtype=np.int8)\n",
    "v[::2,1::2]=1\n",
    "v[1::2,::2]=1\n",
    "print(v)\n",
    "\n",
    "#14.2\n",
    "def fun(x,y):\n",
    "    return((x+y)%2)\n",
    "w=np.fromfunction(fun,(8,8),dtype=np.int8)\n",
    "print(w)"
   ]
  },
  {
   "cell_type": "markdown",
   "metadata": {},
   "source": [
    "### 15、正则化一个5\\*5随机矩阵  \n",
    "【正则的概念：假设a是矩阵中的一个元素，max/min分别是矩阵元素的最大最小值，则正则化后a = (a - min)/(max - min)】"
   ]
  },
  {
   "cell_type": "code",
   "execution_count": 16,
   "metadata": {},
   "outputs": [
    {
     "name": "stdout",
     "output_type": "stream",
     "text": [
      "[[24 40 39 20 75]\n",
      " [41 82 18 60 34]\n",
      " [97 30 66 60 57]\n",
      " [20 49 43 96 38]\n",
      " [93  2 46  1 76]]\n",
      "[[ 0.35897436  0.76923077  0.74358974  0.25641026  1.66666667]\n",
      " [ 0.79487179  1.84615385  0.20512821  1.28205128  0.61538462]\n",
      " [ 2.23076923  0.51282051  1.43589744  1.28205128  1.20512821]\n",
      " [ 0.25641026  1.          0.84615385  2.20512821  0.71794872]\n",
      " [ 2.12820513 -0.20512821  0.92307692 -0.23076923  1.69230769]]\n"
     ]
    }
   ],
   "source": [
    "z=np.random.randint(0,100,size=(5,5))\n",
    "print(z)\n",
    "zmin=a.min()\n",
    "zmax=a.max()\n",
    "z=(z-zmin)/(zmax-zmin)\n",
    "print(z)"
   ]
  },
  {
   "cell_type": "code",
   "execution_count": null,
   "metadata": {},
   "outputs": [],
   "source": []
  }
 ],
 "metadata": {
  "kernelspec": {
   "display_name": "Python 3",
   "language": "python",
   "name": "python3"
  },
  "language_info": {
   "codemirror_mode": {
    "name": "ipython",
    "version": 3
   },
   "file_extension": ".py",
   "mimetype": "text/x-python",
   "name": "python",
   "nbconvert_exporter": "python",
   "pygments_lexer": "ipython3",
   "version": "3.8.5"
  }
 },
 "nbformat": 4,
 "nbformat_minor": 2
}
