{
 "cells": [
  {
   "cell_type": "markdown",
   "metadata": {},
   "source": [
    "### 1. 题目：有四个数字：1、3、5、7，能组成多少个互不相同且无重复数字的三位数？各是多少？"
   ]
  },
  {
   "cell_type": "code",
   "execution_count": 1,
   "metadata": {},
   "outputs": [
    {
     "name": "stdout",
     "output_type": "stream",
     "text": [
      "135\n",
      "137\n",
      "153\n",
      "157\n",
      "173\n",
      "175\n",
      "315\n",
      "317\n",
      "351\n",
      "357\n",
      "371\n",
      "375\n",
      "513\n",
      "517\n",
      "531\n",
      "537\n",
      "571\n",
      "573\n",
      "713\n",
      "715\n",
      "731\n",
      "735\n",
      "751\n",
      "753\n"
     ]
    }
   ],
   "source": [
    "for i in range(1,8,2):\n",
    "    for j in range(1,8,2):\n",
    "        for k in range(1,8,2):\n",
    "            if( i != k ) and (i != j) and (j != k):\n",
    "                print(i*100+j*10+k)"
   ]
  },
  {
   "cell_type": "markdown",
   "metadata": {},
   "source": [
    "### 2 . 题目：企业发放的奖金根据利润提成。利润计算方法如下：\n",
    "* 低于或等于10万元时，奖金可提10%；  \n",
    "* 利润高于10万元，低于20万元时，低于10万元的部分按10%提成，高于10万元的部分，可提成7.5%；  \n",
    "* 20万到40万之间时，高于20万元的部分，可提成5%；  \n",
    "* 40万到60万之间时高于40万元的部分，可提成3%；  \n",
    "* 60万到100万之间时，高于60万元的部分，可提成1.5%，高于100万元时，超过100万元的部分按1%提成。  \n",
    "#### 利用input函数从键盘输入当月利润I，求应发放奖金总数？ "
   ]
  },
  {
   "cell_type": "code",
   "execution_count": 2,
   "metadata": {},
   "outputs": [
    {
     "name": "stdout",
     "output_type": "stream",
     "text": [
      "请输入净利润(万元):100\n",
      "0.6\n",
      "0.6\n",
      "1.0\n",
      "0.75\n",
      "1.0\n",
      "总奖金: 3.95\n"
     ]
    }
   ],
   "source": [
    "i = float(input('请输入净利润(万元):'))\n",
    "arr = [100,60,40,20,10,0]\n",
    "rat = [0.01,0.015,0.03,0.05,0.075,0.1]\n",
    "r = 0\n",
    "for idx in range(0,6):\n",
    "    if i>arr[idx]:\n",
    "        r+=(i-arr[idx])*rat[idx]\n",
    "        print((i-arr[idx])*rat[idx])\n",
    "        i=arr[idx]\n",
    "print(\"总奖金:\", r)"
   ]
  },
  {
   "cell_type": "markdown",
   "metadata": {},
   "source": [
    "### 3. 题目：输入某年某月某日，判断这一天是这一年的第几天？"
   ]
  },
  {
   "cell_type": "code",
   "execution_count": 3,
   "metadata": {},
   "outputs": [
    {
     "name": "stdout",
     "output_type": "stream",
     "text": [
      "year:\n",
      "2018\n",
      "month:\n",
      "11\n",
      "day:\n",
      "2\n",
      "it is the 306th day.\n"
     ]
    }
   ],
   "source": [
    "year = int(input('year:\\n'))\n",
    "month = int(input('month:\\n'))\n",
    "day = int(input('day:\\n'))\n",
    " \n",
    "months = (0,31,59,90,120,151,181,212,243,273,304,334)\n",
    "if 0 < month <= 12:\n",
    "    sum = months[month - 1]\n",
    "else:\n",
    "    print('data error')\n",
    "sum += day\n",
    "leap = 0\n",
    "if (year % 400 == 0) or ((year % 4 == 0) and (year % 100 != 0)):\n",
    "    leap = 1\n",
    "if (leap == 1) and (month > 2):\n",
    "    sum += 1\n",
    "print('it is the %dth day.' % sum)"
   ]
  },
  {
   "cell_type": "markdown",
   "metadata": {},
   "source": [
    "### 4. 题目：输入三个整数x,y,z，请把这三个数由小到大输出。"
   ]
  },
  {
   "cell_type": "code",
   "execution_count": 4,
   "metadata": {},
   "outputs": [
    {
     "name": "stdout",
     "output_type": "stream",
     "text": [
      "integer:\n",
      "4\n",
      "integer:\n",
      "9\n",
      "integer:\n",
      "9\n",
      "[4, 9, 9]\n"
     ]
    }
   ],
   "source": [
    "l = []\n",
    "for i in range(3):\n",
    "    x = int(input('integer:\\n'))\n",
    "    l.append(x)\n",
    "l.sort()\n",
    "print(l)"
   ]
  },
  {
   "cell_type": "markdown",
   "metadata": {},
   "source": [
    "### 5. 题目：构造斐波那契数列，并输出数列中的第10个数。"
   ]
  },
  {
   "cell_type": "code",
   "execution_count": 5,
   "metadata": {},
   "outputs": [
    {
     "name": "stdout",
     "output_type": "stream",
     "text": [
      "55\n"
     ]
    }
   ],
   "source": [
    "def fib(n):\n",
    "    a,b = 1,1\n",
    "    for i in range(n-1):\n",
    "        a,b = b,a+b\n",
    "    return a\n",
    " \n",
    "# 输出了第10个斐波那契数列\n",
    "print(fib(10))"
   ]
  },
  {
   "cell_type": "code",
   "execution_count": 6,
   "metadata": {},
   "outputs": [
    {
     "name": "stdout",
     "output_type": "stream",
     "text": [
      "55\n"
     ]
    }
   ],
   "source": [
    "# 使用递归\n",
    "def fib(n):\n",
    "    if n==1 or n==2:\n",
    "        return 1\n",
    "    return fib(n-1)+fib(n-2)\n",
    " \n",
    "# 输出了第10个斐波那契数列\n",
    "print(fib(10))"
   ]
  },
  {
   "cell_type": "markdown",
   "metadata": {},
   "source": [
    "### 6. 题目：输出 9*9 乘法口诀表。"
   ]
  },
  {
   "cell_type": "code",
   "execution_count": 15,
   "metadata": {},
   "outputs": [
    {
     "name": "stdout",
     "output_type": "stream",
     "text": [
      "1 * 1 =  1; \b\b\n",
      "2 * 1 =  2; 2 * 2 =  4; \b\b\n",
      "3 * 1 =  3; 3 * 2 =  6; 3 * 3 =  9; \b\b\n",
      "4 * 1 =  4; 4 * 2 =  8; 4 * 3 = 12; 4 * 4 = 16; \b\b\n",
      "5 * 1 =  5; 5 * 2 = 10; 5 * 3 = 15; 5 * 4 = 20; 5 * 5 = 25; \b\b\n",
      "6 * 1 =  6; 6 * 2 = 12; 6 * 3 = 18; 6 * 4 = 24; 6 * 5 = 30; 6 * 6 = 36; \b\b\n",
      "7 * 1 =  7; 7 * 2 = 14; 7 * 3 = 21; 7 * 4 = 28; 7 * 5 = 35; 7 * 6 = 42; 7 * 7 = 49; \b\b\n",
      "8 * 1 =  8; 8 * 2 = 16; 8 * 3 = 24; 8 * 4 = 32; 8 * 5 = 40; 8 * 6 = 48; 8 * 7 = 56; 8 * 8 = 64; \b\b\n",
      "9 * 1 =  9; 9 * 2 = 18; 9 * 3 = 27; 9 * 4 = 36; 9 * 5 = 45; 9 * 6 = 54; 9 * 7 = 63; 9 * 8 = 72; 9 * 9 = 81; \b\b\n"
     ]
    }
   ],
   "source": [
    "for i in range(1, 10):\n",
    "    \n",
    "    for j in range(1, i+1):\n",
    "        print(\"%d * %d = %2d\" % (i, j, i*j), end=\"; \")\n",
    "    print(\"\\b\\b\")"
   ]
  },
  {
   "cell_type": "markdown",
   "metadata": {},
   "source": [
    "### 7. 题目：暂停一秒输出，并格式化当前时间。"
   ]
  },
  {
   "cell_type": "code",
   "execution_count": 16,
   "metadata": {},
   "outputs": [
    {
     "name": "stdout",
     "output_type": "stream",
     "text": [
      "2021-03-06 18:48:34\n",
      "2021-03-06 18:48:35\n"
     ]
    }
   ],
   "source": [
    "import time\n",
    " \n",
    "print(time.strftime('%Y-%m-%d %H:%M:%S',time.localtime(time.time())))\n",
    " \n",
    "# 暂停一秒\n",
    "time.sleep(1)\n",
    " \n",
    "print(time.strftime('%Y-%m-%d %H:%M:%S',time.localtime(time.time())))"
   ]
  },
  {
   "cell_type": "markdown",
   "metadata": {},
   "source": [
    "### 8. 题目：判断101-200之间有多少个素数，并输出所有素数。"
   ]
  },
  {
   "cell_type": "code",
   "execution_count": 17,
   "metadata": {},
   "outputs": [
    {
     "name": "stdout",
     "output_type": "stream",
     "text": [
      "101 \n",
      "103 \n",
      "107 \n",
      "109 \n",
      "113 \n",
      "127 \n",
      "131 \n",
      "137 \n",
      "139 \n",
      "149 \n",
      "\n",
      "151 \n",
      "157 \n",
      "163 \n",
      "167 \n",
      "173 \n",
      "179 \n",
      "181 \n",
      "191 \n",
      "193 \n",
      "197 \n",
      "\n",
      "199 \n",
      "The total is 21\n"
     ]
    }
   ],
   "source": [
    "count = 0\n",
    "leap = 1\n",
    "from math import sqrt\n",
    "for m in range(101,201):\n",
    "    k = int(sqrt(m + 1))\n",
    "    for i in range(2,k + 1):\n",
    "        if m % i == 0:\n",
    "            leap = 0\n",
    "            break\n",
    "    if leap == 1:\n",
    "        print('%-4d' % m)\n",
    "        count += 1\n",
    "        if count % 10 == 0:\n",
    "            print()\n",
    "    leap = 1\n",
    "print('The total is %d' % count)"
   ]
  },
  {
   "cell_type": "markdown",
   "metadata": {},
   "source": [
    "### 9. 题目：打印出所有的\"水仙花数\"，所谓\"水仙花数\"是指一个三位数，其各位数字立方和等于该数本身。例如：153是一个\"水仙花数\"，因为153=1的三次方＋5的三次方＋3的三次方。"
   ]
  },
  {
   "cell_type": "code",
   "execution_count": 19,
   "metadata": {},
   "outputs": [
    {
     "name": "stdout",
     "output_type": "stream",
     "text": [
      "153\n",
      "370\n",
      "371\n",
      "407\n"
     ]
    }
   ],
   "source": [
    "for n in range(100,1000):\n",
    "    i = int(n / 100)\n",
    "    j = int(n / 10 % 10)\n",
    "    k = int(n % 10)\n",
    "    if n == i ** 3 + j ** 3 + k ** 3:\n",
    "        print(n)"
   ]
  },
  {
   "cell_type": "code",
   "execution_count": 20,
   "metadata": {},
   "outputs": [
    {
     "name": "stdout",
     "output_type": "stream",
     "text": [
      "9 9 9\n"
     ]
    }
   ],
   "source": [
    "print(i,j,k)"
   ]
  },
  {
   "cell_type": "markdown",
   "metadata": {},
   "source": [
    "### 10. 题目：将一个正整数分解质因数。例如：输入90，则打印出90=2 * 2 * 2 * 3 * 5。"
   ]
  },
  {
   "cell_type": "markdown",
   "metadata": {},
   "source": [
    "程序分析：对n进行分解质因数，应先找到一个最小的质数k，然后按下述步骤完成：\n",
    "(1)如果这个质数恰等于n，则说明分解质因数的过程已经结束，打印出即可。\n",
    "(2)如果n<>k，但n能被k整除，则应打印出k的值，并用n除以k的商,作为新的正整数你n,重复执行第一步。\n",
    "(3)如果n不能被k整除，则用k+1作为k的值,重复执行第一步。\n",
    "\n",
    "程序源代码："
   ]
  },
  {
   "cell_type": "code",
   "execution_count": 22,
   "metadata": {
    "scrolled": true
   },
   "outputs": [
    {
     "name": "stdout",
     "output_type": "stream",
     "text": [
      "1 = 1\n",
      "100 = 2 * 2 * 5 * 5"
     ]
    }
   ],
   "source": [
    "def reduceNum(n):\n",
    "    print('{} = '.format(n),end='')\n",
    "    if not isinstance(n, int) or n <= 0 :\n",
    "        print('请输入一个正确的数字 !')\n",
    "        exit(0)\n",
    "    elif n in [1] :\n",
    "        print('{}'.format(n))\n",
    "    while n not in [1] : # 循环保证递归\n",
    "        for index in range(2, int(n) + 1) :\n",
    "            if n % index == 0:\n",
    "                n /= index # n 等于 n/index\n",
    "                if n == 1: \n",
    "                    print(index,end='')\n",
    "                else : # index 一定是素数\n",
    "                    print('{} * '.format(index),end='')\n",
    "                break\n",
    "reduceNum(1)\n",
    "reduceNum(100)"
   ]
  }
 ],
 "metadata": {
  "kernelspec": {
   "display_name": "Python 3",
   "language": "python",
   "name": "python3"
  },
  "language_info": {
   "codemirror_mode": {
    "name": "ipython",
    "version": 3
   },
   "file_extension": ".py",
   "mimetype": "text/x-python",
   "name": "python",
   "nbconvert_exporter": "python",
   "pygments_lexer": "ipython3",
   "version": "3.8.5"
  }
 },
 "nbformat": 4,
 "nbformat_minor": 2
}
