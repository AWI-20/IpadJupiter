{
 "cells": [
  {
   "cell_type": "markdown",
   "metadata": {},
   "source": [
    "### 1. 题目：有四个数字：1、3、5、7，能组成多少个互不相同且无重复数字的三位数？各是多少？"
   ]
  },
  {
   "cell_type": "code",
   "execution_count": 1,
   "metadata": {},
   "outputs": [
    {
     "name": "stdout",
     "output_type": "stream",
     "text": [
      "hello\n"
     ]
    }
   ],
   "source": []
  },
  {
   "cell_type": "markdown",
   "metadata": {},
   "source": [
    "### 2 . 题目：企业发放的奖金根据利润提成。利润计算方法如下：\n",
    "* 低于或等于10万元时，奖金可提10%；  \n",
    "* 利润高于10万元，低于20万元时，低于10万元的部分按10%提成，高于10万元的部分，可提成7.5%；  \n",
    "* 20万到40万之间时，高于20万元的部分，可提成5%；  \n",
    "* 40万到60万之间时高于40万元的部分，可提成3%；  \n",
    "* 60万到100万之间时，高于60万元的部分，可提成1.5%，高于100万元时，超过100万元的部分按1%提成。  \n",
    "#### 利用input函数从键盘输入当月利润I（万元），求应发放奖金总数？ "
   ]
  },
  {
   "cell_type": "code",
   "execution_count": null,
   "metadata": {},
   "outputs": [],
   "source": []
  },
  {
   "cell_type": "markdown",
   "metadata": {},
   "source": [
    "### 3. 题目：输入某年某月某日，判断这一天是这一年的第几天？"
   ]
  },
  {
   "cell_type": "code",
   "execution_count": null,
   "metadata": {},
   "outputs": [],
   "source": []
  },
  {
   "cell_type": "markdown",
   "metadata": {},
   "source": [
    "### 4. 题目：输入三个整数x,y,z，请把这三个数由小到大输出。"
   ]
  },
  {
   "cell_type": "code",
   "execution_count": null,
   "metadata": {
    "collapsed": true
   },
   "outputs": [],
   "source": []
  },
  {
   "cell_type": "markdown",
   "metadata": {},
   "source": [
    "### 5. 题目：构造斐波那契数列（1,1,2,3,......）。并输出数列中的第10个数。"
   ]
  },
  {
   "cell_type": "code",
   "execution_count": null,
   "metadata": {
    "collapsed": true
   },
   "outputs": [],
   "source": []
  },
  {
   "cell_type": "markdown",
   "metadata": {},
   "source": [
    "### 6. 题目：输出 9*9 乘法口诀表。\n",
    "\n",
    "1 * 1 =  1  \n",
    "2 * 1 =  2; 2 * 2 =  4  \n",
    "3 * 1 =  3; 3 * 2 =  6; 3 * 3 =  9  \n",
    "4 * 1 =  4; 4 * 2 =  8; 4 * 3 = 12; 4 * 4 = 16  \n",
    "5 * 1 =  5; 5 * 2 = 10; 5 * 3 = 15; 5 * 4 = 20; 5 * 5 = 25  \n",
    "6 * 1 =  6; 6 * 2 = 12; 6 * 3 = 18; 6 * 4 = 24; 6 * 5 = 30; 6 * 6 = 36  \n",
    "7 * 1 =  7; 7 * 2 = 14; 7 * 3 = 21; 7 * 4 = 28; 7 * 5 = 35; 7 * 6 = 42; 7 * 7 = 49  \n",
    "8 * 1 =  8; 8 * 2 = 16; 8 * 3 = 24; 8 * 4 = 32; 8 * 5 = 40; 8 * 6 = 48; 8 * 7 = 56; 8 * 8 = 64  \n",
    "9 * 1 =  9; 9 * 2 = 18; 9 * 3 = 27; 9 * 4 = 36; 9 * 5 = 45; 9 * 6 = 54; 9 * 7 = 63; 9 * 8 = 72; 9 * 9 = 81  "
   ]
  },
  {
   "cell_type": "code",
   "execution_count": null,
   "metadata": {
    "collapsed": true
   },
   "outputs": [],
   "source": []
  },
  {
   "cell_type": "markdown",
   "metadata": {},
   "source": [
    "### 7. 题目：暂停一秒输出，并格式化当前时间。"
   ]
  },
  {
   "cell_type": "code",
   "execution_count": null,
   "metadata": {},
   "outputs": [],
   "source": []
  },
  {
   "cell_type": "markdown",
   "metadata": {},
   "source": [
    "### 8. 题目：判断101-200之间有多少个素数，并输出所有素数。"
   ]
  },
  {
   "cell_type": "code",
   "execution_count": null,
   "metadata": {
    "collapsed": true
   },
   "outputs": [],
   "source": []
  },
  {
   "cell_type": "markdown",
   "metadata": {},
   "source": [
    "### 9. 题目：打印出所有的\"水仙花数\"，所谓\"水仙花数\"是指一个三位数，其各位数字立方和等于该数本身。例如：153是一个\"水仙花数\"，因为153=1的三次方＋5的三次方＋3的三次方。"
   ]
  },
  {
   "cell_type": "code",
   "execution_count": null,
   "metadata": {
    "collapsed": true
   },
   "outputs": [],
   "source": []
  },
  {
   "cell_type": "markdown",
   "metadata": {},
   "source": [
    "### 10. 题目：将一个正整数分解质因数。例如：输入90，则打印出90=2 * 2 * 2 * 3 * 5。"
   ]
  },
  {
   "cell_type": "code",
   "execution_count": null,
   "metadata": {
    "collapsed": true
   },
   "outputs": [],
   "source": []
  }
 ],
 "metadata": {
  "kernelspec": {
   "display_name": "Python 3",
   "language": "python",
   "name": "python3"
  },
  "language_info": {
   "codemirror_mode": {
    "name": "ipython",
    "version": 3
   },
   "file_extension": ".py",
   "mimetype": "text/x-python",
   "name": "python",
   "nbconvert_exporter": "python",
   "pygments_lexer": "ipython3",
   "version": "3.8.5"
  }
 },
 "nbformat": 4,
 "nbformat_minor": 2
}
